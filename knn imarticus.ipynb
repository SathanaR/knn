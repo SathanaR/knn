{
 "cells": [
  {
   "cell_type": "code",
   "execution_count": 32,
   "id": "c1fc4fdf",
   "metadata": {},
   "outputs": [],
   "source": [
    "import pandas as pd\n",
    "import numpy as np\n",
    "from scipy import stats\n",
    "import matplotlib.pyplot as plt\n",
    "import seaborn as sns\n",
    "import statsmodels.api as sm\n",
    "from sklearn.neighbors import KNeighborsClassifier\n",
    "from sklearn.model_selection import train_test_split"
   ]
  },
  {
   "cell_type": "code",
   "execution_count": 33,
   "id": "d0dcde96",
   "metadata": {},
   "outputs": [],
   "source": [
    "data=pd.read_csv(\"D:/data analysis class/Mobile_data.csv\")"
   ]
  },
  {
   "cell_type": "code",
   "execution_count": 34,
   "id": "8a7e00f6",
   "metadata": {},
   "outputs": [
    {
     "data": {
      "text/html": [
       "<div>\n",
       "<style scoped>\n",
       "    .dataframe tbody tr th:only-of-type {\n",
       "        vertical-align: middle;\n",
       "    }\n",
       "\n",
       "    .dataframe tbody tr th {\n",
       "        vertical-align: top;\n",
       "    }\n",
       "\n",
       "    .dataframe thead th {\n",
       "        text-align: right;\n",
       "    }\n",
       "</style>\n",
       "<table border=\"1\" class=\"dataframe\">\n",
       "  <thead>\n",
       "    <tr style=\"text-align: right;\">\n",
       "      <th></th>\n",
       "      <th>battery_power</th>\n",
       "      <th>clock_speed</th>\n",
       "      <th>fc</th>\n",
       "      <th>int_memory</th>\n",
       "      <th>m_dep</th>\n",
       "      <th>mobile_wt</th>\n",
       "      <th>n_cores</th>\n",
       "      <th>pc</th>\n",
       "      <th>px_height</th>\n",
       "      <th>px_width</th>\n",
       "      <th>ram</th>\n",
       "      <th>sc_h</th>\n",
       "      <th>sc_w</th>\n",
       "      <th>talk_time</th>\n",
       "      <th>price_range</th>\n",
       "    </tr>\n",
       "  </thead>\n",
       "  <tbody>\n",
       "    <tr>\n",
       "      <th>0</th>\n",
       "      <td>842</td>\n",
       "      <td>2.2</td>\n",
       "      <td>1</td>\n",
       "      <td>7</td>\n",
       "      <td>0.6</td>\n",
       "      <td>188</td>\n",
       "      <td>2</td>\n",
       "      <td>2</td>\n",
       "      <td>20</td>\n",
       "      <td>756</td>\n",
       "      <td>2549</td>\n",
       "      <td>9</td>\n",
       "      <td>7</td>\n",
       "      <td>19</td>\n",
       "      <td>1</td>\n",
       "    </tr>\n",
       "    <tr>\n",
       "      <th>1</th>\n",
       "      <td>1021</td>\n",
       "      <td>0.5</td>\n",
       "      <td>0</td>\n",
       "      <td>53</td>\n",
       "      <td>0.7</td>\n",
       "      <td>136</td>\n",
       "      <td>3</td>\n",
       "      <td>6</td>\n",
       "      <td>905</td>\n",
       "      <td>1988</td>\n",
       "      <td>2631</td>\n",
       "      <td>17</td>\n",
       "      <td>3</td>\n",
       "      <td>7</td>\n",
       "      <td>2</td>\n",
       "    </tr>\n",
       "    <tr>\n",
       "      <th>2</th>\n",
       "      <td>563</td>\n",
       "      <td>0.5</td>\n",
       "      <td>2</td>\n",
       "      <td>41</td>\n",
       "      <td>0.9</td>\n",
       "      <td>145</td>\n",
       "      <td>5</td>\n",
       "      <td>6</td>\n",
       "      <td>1263</td>\n",
       "      <td>1716</td>\n",
       "      <td>2603</td>\n",
       "      <td>11</td>\n",
       "      <td>2</td>\n",
       "      <td>9</td>\n",
       "      <td>2</td>\n",
       "    </tr>\n",
       "    <tr>\n",
       "      <th>3</th>\n",
       "      <td>615</td>\n",
       "      <td>2.5</td>\n",
       "      <td>0</td>\n",
       "      <td>10</td>\n",
       "      <td>0.8</td>\n",
       "      <td>131</td>\n",
       "      <td>6</td>\n",
       "      <td>9</td>\n",
       "      <td>1216</td>\n",
       "      <td>1786</td>\n",
       "      <td>2769</td>\n",
       "      <td>16</td>\n",
       "      <td>8</td>\n",
       "      <td>11</td>\n",
       "      <td>2</td>\n",
       "    </tr>\n",
       "    <tr>\n",
       "      <th>4</th>\n",
       "      <td>1821</td>\n",
       "      <td>1.2</td>\n",
       "      <td>13</td>\n",
       "      <td>44</td>\n",
       "      <td>0.6</td>\n",
       "      <td>141</td>\n",
       "      <td>2</td>\n",
       "      <td>14</td>\n",
       "      <td>1208</td>\n",
       "      <td>1212</td>\n",
       "      <td>1411</td>\n",
       "      <td>8</td>\n",
       "      <td>2</td>\n",
       "      <td>15</td>\n",
       "      <td>1</td>\n",
       "    </tr>\n",
       "  </tbody>\n",
       "</table>\n",
       "</div>"
      ],
      "text/plain": [
       "   battery_power  clock_speed  fc  int_memory  m_dep  mobile_wt  n_cores  pc  \\\n",
       "0            842          2.2   1           7    0.6        188        2   2   \n",
       "1           1021          0.5   0          53    0.7        136        3   6   \n",
       "2            563          0.5   2          41    0.9        145        5   6   \n",
       "3            615          2.5   0          10    0.8        131        6   9   \n",
       "4           1821          1.2  13          44    0.6        141        2  14   \n",
       "\n",
       "   px_height  px_width   ram  sc_h  sc_w  talk_time  price_range  \n",
       "0         20       756  2549     9     7         19            1  \n",
       "1        905      1988  2631    17     3          7            2  \n",
       "2       1263      1716  2603    11     2          9            2  \n",
       "3       1216      1786  2769    16     8         11            2  \n",
       "4       1208      1212  1411     8     2         15            1  "
      ]
     },
     "execution_count": 34,
     "metadata": {},
     "output_type": "execute_result"
    }
   ],
   "source": [
    "data.head()"
   ]
  },
  {
   "cell_type": "code",
   "execution_count": 35,
   "id": "4b9c1760",
   "metadata": {},
   "outputs": [
    {
     "data": {
      "text/plain": [
       "battery_power    0\n",
       "clock_speed      0\n",
       "fc               0\n",
       "int_memory       0\n",
       "m_dep            0\n",
       "mobile_wt        0\n",
       "n_cores          0\n",
       "pc               0\n",
       "px_height        0\n",
       "px_width         0\n",
       "ram              0\n",
       "sc_h             0\n",
       "sc_w             0\n",
       "talk_time        0\n",
       "price_range      0\n",
       "dtype: int64"
      ]
     },
     "execution_count": 35,
     "metadata": {},
     "output_type": "execute_result"
    }
   ],
   "source": [
    "data.isnull().sum()"
   ]
  },
  {
   "cell_type": "code",
   "execution_count": 36,
   "id": "4403f2b9",
   "metadata": {},
   "outputs": [
    {
     "data": {
      "text/plain": [
       "{'whiskers': [<matplotlib.lines.Line2D at 0x23e57b40b50>,\n",
       "  <matplotlib.lines.Line2D at 0x23e57b40ee0>,\n",
       "  <matplotlib.lines.Line2D at 0x23e57b593a0>,\n",
       "  <matplotlib.lines.Line2D at 0x23e57b59730>,\n",
       "  <matplotlib.lines.Line2D at 0x23e57b62cd0>,\n",
       "  <matplotlib.lines.Line2D at 0x23e57b6e0a0>,\n",
       "  <matplotlib.lines.Line2D at 0x23e590bb640>,\n",
       "  <matplotlib.lines.Line2D at 0x23e590bb9d0>,\n",
       "  <matplotlib.lines.Line2D at 0x23e590c5f70>,\n",
       "  <matplotlib.lines.Line2D at 0x23e590d1340>,\n",
       "  <matplotlib.lines.Line2D at 0x23e590da8e0>,\n",
       "  <matplotlib.lines.Line2D at 0x23e590dac70>,\n",
       "  <matplotlib.lines.Line2D at 0x23e590f3250>,\n",
       "  <matplotlib.lines.Line2D at 0x23e590f35e0>,\n",
       "  <matplotlib.lines.Line2D at 0x23e590fdb80>,\n",
       "  <matplotlib.lines.Line2D at 0x23e590fdf10>,\n",
       "  <matplotlib.lines.Line2D at 0x23e591154f0>,\n",
       "  <matplotlib.lines.Line2D at 0x23e59115880>,\n",
       "  <matplotlib.lines.Line2D at 0x23e59120e50>,\n",
       "  <matplotlib.lines.Line2D at 0x23e5912b220>,\n",
       "  <matplotlib.lines.Line2D at 0x23e591357c0>,\n",
       "  <matplotlib.lines.Line2D at 0x23e59135b50>,\n",
       "  <matplotlib.lines.Line2D at 0x23e5914d130>,\n",
       "  <matplotlib.lines.Line2D at 0x23e5914d4c0>,\n",
       "  <matplotlib.lines.Line2D at 0x23e59158a60>,\n",
       "  <matplotlib.lines.Line2D at 0x23e59158df0>,\n",
       "  <matplotlib.lines.Line2D at 0x23e5916f400>,\n",
       "  <matplotlib.lines.Line2D at 0x23e5916f790>,\n",
       "  <matplotlib.lines.Line2D at 0x23e5917ad30>,\n",
       "  <matplotlib.lines.Line2D at 0x23e59184100>],\n",
       " 'caps': [<matplotlib.lines.Line2D at 0x23e57b4e190>,\n",
       "  <matplotlib.lines.Line2D at 0x23e57b4e520>,\n",
       "  <matplotlib.lines.Line2D at 0x23e57b59ac0>,\n",
       "  <matplotlib.lines.Line2D at 0x23e57b59e50>,\n",
       "  <matplotlib.lines.Line2D at 0x23e57b6e430>,\n",
       "  <matplotlib.lines.Line2D at 0x23e57b6e7c0>,\n",
       "  <matplotlib.lines.Line2D at 0x23e590bbd60>,\n",
       "  <matplotlib.lines.Line2D at 0x23e590c5130>,\n",
       "  <matplotlib.lines.Line2D at 0x23e590d16d0>,\n",
       "  <matplotlib.lines.Line2D at 0x23e590d1a60>,\n",
       "  <matplotlib.lines.Line2D at 0x23e590e8040>,\n",
       "  <matplotlib.lines.Line2D at 0x23e590e83d0>,\n",
       "  <matplotlib.lines.Line2D at 0x23e590f3970>,\n",
       "  <matplotlib.lines.Line2D at 0x23e590f3d00>,\n",
       "  <matplotlib.lines.Line2D at 0x23e591082e0>,\n",
       "  <matplotlib.lines.Line2D at 0x23e59108670>,\n",
       "  <matplotlib.lines.Line2D at 0x23e59115c10>,\n",
       "  <matplotlib.lines.Line2D at 0x23e59115fa0>,\n",
       "  <matplotlib.lines.Line2D at 0x23e5912b5b0>,\n",
       "  <matplotlib.lines.Line2D at 0x23e5912b940>,\n",
       "  <matplotlib.lines.Line2D at 0x23e59135ee0>,\n",
       "  <matplotlib.lines.Line2D at 0x23e591402b0>,\n",
       "  <matplotlib.lines.Line2D at 0x23e5914d850>,\n",
       "  <matplotlib.lines.Line2D at 0x23e5914dbe0>,\n",
       "  <matplotlib.lines.Line2D at 0x23e591631f0>,\n",
       "  <matplotlib.lines.Line2D at 0x23e59163580>,\n",
       "  <matplotlib.lines.Line2D at 0x23e5916fb20>,\n",
       "  <matplotlib.lines.Line2D at 0x23e5916feb0>,\n",
       "  <matplotlib.lines.Line2D at 0x23e59184490>,\n",
       "  <matplotlib.lines.Line2D at 0x23e59184820>],\n",
       " 'boxes': [<matplotlib.lines.Line2D at 0x23e57b407c0>,\n",
       "  <matplotlib.lines.Line2D at 0x23e57b4efd0>,\n",
       "  <matplotlib.lines.Line2D at 0x23e57b62940>,\n",
       "  <matplotlib.lines.Line2D at 0x23e590bb2b0>,\n",
       "  <matplotlib.lines.Line2D at 0x23e590c5be0>,\n",
       "  <matplotlib.lines.Line2D at 0x23e590da550>,\n",
       "  <matplotlib.lines.Line2D at 0x23e590e8e80>,\n",
       "  <matplotlib.lines.Line2D at 0x23e590fd7f0>,\n",
       "  <matplotlib.lines.Line2D at 0x23e59115160>,\n",
       "  <matplotlib.lines.Line2D at 0x23e59120ac0>,\n",
       "  <matplotlib.lines.Line2D at 0x23e59135430>,\n",
       "  <matplotlib.lines.Line2D at 0x23e59140d60>,\n",
       "  <matplotlib.lines.Line2D at 0x23e591586d0>,\n",
       "  <matplotlib.lines.Line2D at 0x23e5916f070>,\n",
       "  <matplotlib.lines.Line2D at 0x23e5917a9a0>],\n",
       " 'medians': [<matplotlib.lines.Line2D at 0x23e57b4e8b0>,\n",
       "  <matplotlib.lines.Line2D at 0x23e57b62220>,\n",
       "  <matplotlib.lines.Line2D at 0x23e57b6eb50>,\n",
       "  <matplotlib.lines.Line2D at 0x23e590c54c0>,\n",
       "  <matplotlib.lines.Line2D at 0x23e590d1df0>,\n",
       "  <matplotlib.lines.Line2D at 0x23e590e8760>,\n",
       "  <matplotlib.lines.Line2D at 0x23e590fd0d0>,\n",
       "  <matplotlib.lines.Line2D at 0x23e59108a00>,\n",
       "  <matplotlib.lines.Line2D at 0x23e59120370>,\n",
       "  <matplotlib.lines.Line2D at 0x23e5912bcd0>,\n",
       "  <matplotlib.lines.Line2D at 0x23e59140640>,\n",
       "  <matplotlib.lines.Line2D at 0x23e5914df70>,\n",
       "  <matplotlib.lines.Line2D at 0x23e59163910>,\n",
       "  <matplotlib.lines.Line2D at 0x23e5917a280>,\n",
       "  <matplotlib.lines.Line2D at 0x23e59184bb0>],\n",
       " 'fliers': [<matplotlib.lines.Line2D at 0x23e57b4ec40>,\n",
       "  <matplotlib.lines.Line2D at 0x23e57b625b0>,\n",
       "  <matplotlib.lines.Line2D at 0x23e57b6eee0>,\n",
       "  <matplotlib.lines.Line2D at 0x23e590c5850>,\n",
       "  <matplotlib.lines.Line2D at 0x23e590da1c0>,\n",
       "  <matplotlib.lines.Line2D at 0x23e590e8af0>,\n",
       "  <matplotlib.lines.Line2D at 0x23e590fd460>,\n",
       "  <matplotlib.lines.Line2D at 0x23e59108d90>,\n",
       "  <matplotlib.lines.Line2D at 0x23e59120730>,\n",
       "  <matplotlib.lines.Line2D at 0x23e591350a0>,\n",
       "  <matplotlib.lines.Line2D at 0x23e591409d0>,\n",
       "  <matplotlib.lines.Line2D at 0x23e59158340>,\n",
       "  <matplotlib.lines.Line2D at 0x23e59163ca0>,\n",
       "  <matplotlib.lines.Line2D at 0x23e5917a610>,\n",
       "  <matplotlib.lines.Line2D at 0x23e59184f40>],\n",
       " 'means': []}"
      ]
     },
     "execution_count": 36,
     "metadata": {},
     "output_type": "execute_result"
    },
    {
     "data": {
      "image/png": "[encoded data removed]",
      "text/plain": [
       "<Figure size 1440x1440 with 1 Axes>"
      ]
     },
     "metadata": {
      "needs_background": "light"
     },
     "output_type": "display_data"
    }
   ],
   "source": [
    "plt.figure(figsize=(20,20))\n",
    "plt.boxplot(data)"
   ]
  },
  {
   "cell_type": "code",
   "execution_count": 37,
   "id": "25efcec2",
   "metadata": {},
   "outputs": [],
   "source": [
    "y=data.price_range"
   ]
  },
  {
   "cell_type": "code",
   "execution_count": 38,
   "id": "efc45694",
   "metadata": {},
   "outputs": [],
   "source": [
    "x=data.drop('price_range',axis=True)"
   ]
  },
  {
   "cell_type": "code",
   "execution_count": 39,
   "id": "7c54ab0a",
   "metadata": {},
   "outputs": [],
   "source": [
    "x_train, x_test, y_train, y_test = train_test_split(x,y, test_size=0.2,random_state=100)"
   ]
  },
  {
   "cell_type": "code",
   "execution_count": 40,
   "id": "aa1ef3a2",
   "metadata": {},
   "outputs": [],
   "source": [
    "score1=[]\n",
    "for i in range(1,len(y_train)):\n",
    "    model = KNeighborsClassifier(n_neighbors=i)\n",
    "    model.fit(x_train, y_train)\n",
    "    y_predict = model.predict(x_test)\n",
    "    score1.append(model.score(x_test,y_test))"
   ]
  },
  {
   "cell_type": "code",
   "execution_count": 41,
   "id": "288c462c",
   "metadata": {},
   "outputs": [
    {
     "name": "stdout",
     "output_type": "stream",
     "text": [
      "0.93 at n= 13\n"
     ]
    }
   ],
   "source": [
    "print(max(score1),\"at n=\",(score1.index(max(score1)))+1)"
   ]
  },
  {
   "cell_type": "code",
   "execution_count": 42,
   "id": "e52f14ff",
   "metadata": {},
   "outputs": [],
   "source": [
    "Model= KNeighborsClassifier(n_neighbors=13)"
   ]
  },
  {
   "cell_type": "code",
   "execution_count": 43,
   "id": "1d54a790",
   "metadata": {},
   "outputs": [
    {
     "data": {
      "text/plain": [
       "KNeighborsClassifier(n_neighbors=1599)"
      ]
     },
     "execution_count": 43,
     "metadata": {},
     "output_type": "execute_result"
    }
   ],
   "source": [
    "model.fit(x_train, y_train)"
   ]
  },
  {
   "cell_type": "code",
   "execution_count": 44,
   "id": "093e8e29",
   "metadata": {},
   "outputs": [],
   "source": [
    "y_predict = model.predict(x_test)"
   ]
  },
  {
   "cell_type": "code",
   "execution_count": 45,
   "id": "81e8f0d2",
   "metadata": {},
   "outputs": [],
   "source": [
    "y_predict=pd.DataFrame(y_predict )"
   ]
  },
  {
   "cell_type": "code",
   "execution_count": 47,
   "id": "4b0782df",
   "metadata": {},
   "outputs": [
    {
     "data": {
      "text/plain": [
       "0.2525"
      ]
     },
     "execution_count": 47,
     "metadata": {},
     "output_type": "execute_result"
    }
   ],
   "source": [
    "model.score(x_train,y_train)"
   ]
  },
  {
   "cell_type": "code",
   "execution_count": 48,
   "id": "b5bfe918",
   "metadata": {},
   "outputs": [
    {
     "data": {
      "text/plain": [
       "KNeighborsClassifier(n_neighbors=1599)"
      ]
     },
     "execution_count": 48,
     "metadata": {},
     "output_type": "execute_result"
    }
   ],
   "source": [
    "model.fit(x,y)"
   ]
  },
  {
   "cell_type": "code",
   "execution_count": 49,
   "id": "57bb8b93",
   "metadata": {},
   "outputs": [
    {
     "data": {
      "text/plain": [
       "0.585"
      ]
     },
     "execution_count": 49,
     "metadata": {},
     "output_type": "execute_result"
    }
   ],
   "source": [
    "model.score(x,y)"
   ]
  },
  {
   "cell_type": "code",
   "execution_count": null,
   "id": "07144503",
   "metadata": {},
   "outputs": [],
   "source": []
  }
 ],
 "metadata": {
  "kernelspec": {
   "display_name": "Python 3 (ipykernel)",
   "language": "python",
   "name": "python3"
  },
  "language_info": {
   "codemirror_mode": {
    "name": "ipython",
    "version": 3
   },
   "file_extension": ".py",
   "mimetype": "text/x-python",
   "name": "python",
   "nbconvert_exporter": "python",
   "pygments_lexer": "ipython3",
   "version": "3.9.7"
  }
 },
 "nbformat": 4,
 "nbformat_minor": 5
}
